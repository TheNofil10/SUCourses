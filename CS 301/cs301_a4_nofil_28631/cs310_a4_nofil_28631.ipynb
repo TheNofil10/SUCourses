{
  "nbformat": 4,
  "nbformat_minor": 0,
  "metadata": {
    "colab": {
      "provenance": []
    },
    "kernelspec": {
      "name": "python3",
      "display_name": "Python 3"
    },
    "language_info": {
      "name": "python"
    }
  },
  "cells": [
    {
      "cell_type": "code",
      "execution_count": 87,
      "metadata": {
        "id": "HeHQzhqHLyVq"
      },
      "outputs": [],
      "source": [
        "def WeedMachine(w):\n",
        "  import numpy as np\n",
        "\n",
        "  a = len(w)\n",
        "  b = len(w[1])\n",
        "\n",
        "  m = np.zeros((a,b))\n",
        "  Result = [];\n",
        "  for i in range(0,a):\n",
        "      for j in range(0,b):\n",
        "        m[i][j] = max(m[i-1][j] , m[i][j-1]) + w[i][j];\n",
        "  weeds = m[a-1][b-1]\n",
        "  x = 0;\n",
        "  y = 0;\n",
        "  Result.append((x,y))\n",
        "  while (x != a-1 or y != b-1):\n",
        "    if(x != a-1 and y == b-1):\n",
        "      y = y+1\n",
        "    elif(x == a-1 and y != b-1):\n",
        "      y = y+1\n",
        "    elif(x != a-1 and y != b-1):\n",
        "      if(m[x+1][y] > m[x][y+1]):\n",
        "        x = x+1\n",
        "      elif(m[x+1][y]<m[x][y+1]):\n",
        "        y=y+1\n",
        "      else:\n",
        "        x=x+1\n",
        "    \n",
        "    Result.append((x,y))\n",
        "  \n",
        "\n",
        "  print(\"Maximum number of weeds =\", weeds)\n",
        "  print(\"Path for this result:\", Result)\n",
        "  print()\n"
      ]
    },
    {
      "cell_type": "code",
      "source": [
        "#benchmark suites:\n",
        "\n",
        "#initial(given)\n",
        "test1 = [[1, 0, 1, 0, 0, 0], \n",
        "         [0, 1, 0, 1, 0, 0],\n",
        "         [0, 1, 1, 0, 0, 0],\n",
        "         [0, 0, 0, 0, 1, 0],\n",
        "         [1, 0, 1, 0, 0, 1]]\n",
        "\n",
        "#Exterme cases\n",
        "test2 = [[0, 0, 0, 0, 0, 0], \n",
        "         [0, 0, 0, 0, 0, 0],\n",
        "         [0, 0, 0, 0, 0, 0],\n",
        "         [0, 0, 0, 0, 0, 0],\n",
        "         [0, 0, 0, 0, 0, 0]]\n",
        "\n",
        "test3 = [[1, 1, 1, 1, 1, 1], \n",
        "         [1, 1, 1, 1, 1, 1],\n",
        "         [1, 1, 1, 1, 1, 1],\n",
        "         [1, 1, 1, 1, 1, 1],\n",
        "         [1, 1, 1, 1, 1, 1]]\n",
        "\n",
        "#inverted\n",
        "test4 = [[0, 1, 0, 1, 0, 1], \n",
        "         [1, 0, 1, 0, 1, 0],\n",
        "         [0, 1, 0, 1, 0, 1], \n",
        "         [1, 0, 1, 0, 1, 0],\n",
        "         [0, 1, 0, 1, 0, 1]]\n",
        "\n",
        "#All but 1 weed\n",
        "test5 = [[1, 1, 1, 1, 1, 1, 1, 1, 1, 1, 1], \n",
        "         [1, 1, 1, 1, 1, 1, 1, 1, 1, 1, 1],\n",
        "         [1, 1, 1, 0, 1, 1, 1, 1, 1, 1, 1],\n",
        "         [1, 1, 1, 1, 1, 1, 1, 1, 1, 1, 1],\n",
        "         [1, 1, 1, 1, 1, 1, 1, 1, 1, 1, 1],\n",
        "         [1, 1, 1, 1, 1, 1, 1, 1, 1, 1, 1], \n",
        "         [1, 1, 1, 1, 1, 1, 1, 1, 1, 1, 1],\n",
        "         [1, 1, 1, 1, 1, 1, 1, 1, 1, 1, 1],\n",
        "         [1, 1, 1, 1, 1, 1, 1, 1, 1, 1, 1],\n",
        "         [1, 1, 1, 1, 1, 1, 1, 1, 1, 1, 1]]"
      ],
      "metadata": {
        "id": "D_Coikp0WAMy"
      },
      "execution_count": 93,
      "outputs": []
    },
    {
      "cell_type": "code",
      "source": [
        "WeedMachine(test1)\n",
        "WeedMachine(test2)\n",
        "WeedMachine(test3)\n",
        "WeedMachine(test4)\n",
        "WeedMachine(test5)"
      ],
      "metadata": {
        "colab": {
          "base_uri": "https://localhost:8080/"
        },
        "id": "aBcY6Mh3WBR8",
        "outputId": "c46af1c4-6cef-431f-92da-a93365d883d7"
      },
      "execution_count": 94,
      "outputs": [
        {
          "output_type": "stream",
          "name": "stdout",
          "text": [
            "Maximum number of weeds = 6.0\n",
            "Path for this result: [(0, 0), (1, 0), (1, 1), (2, 1), (2, 2), (3, 2), (4, 2), (4, 3), (4, 4), (4, 5)]\n",
            "\n",
            "Maximum number of weeds = 0.0\n",
            "Path for this result: [(0, 0), (1, 0), (2, 0), (3, 0), (4, 0), (4, 1), (4, 2), (4, 3), (4, 4), (4, 5)]\n",
            "\n",
            "Maximum number of weeds = 10.0\n",
            "Path for this result: [(0, 0), (1, 0), (2, 0), (3, 0), (4, 0), (4, 1), (4, 2), (4, 3), (4, 4), (4, 5)]\n",
            "\n",
            "Maximum number of weeds = 5.0\n",
            "Path for this result: [(0, 0), (1, 0), (2, 0), (3, 0), (4, 0), (4, 1), (4, 2), (4, 3), (4, 4), (4, 5)]\n",
            "\n",
            "Maximum number of weeds = 20.0\n",
            "Path for this result: [(0, 0), (1, 0), (2, 0), (3, 0), (4, 0), (5, 0), (6, 0), (7, 0), (8, 0), (9, 0), (9, 1), (9, 2), (9, 3), (9, 4), (9, 5), (9, 6), (9, 7), (9, 8), (9, 9), (9, 10)]\n",
            "\n"
          ]
        }
      ]
    }
  ]
}